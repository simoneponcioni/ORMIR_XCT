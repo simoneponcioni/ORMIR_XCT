{
 "cells": [
  {
   "cell_type": "markdown",
   "metadata": {},
   "source": [
    "### Notes\n",
    "\n",
    "Author: Simone Poncioni, MSB \n",
    "\n",
    "Date: 14.02.2025 "
   ]
  },
  {
   "cell_type": "markdown",
   "metadata": {},
   "source": [
    "1. Generate a script that calls ORMIR_XCT functions (first, try with autocontour)\n",
    "2. Generate hydra setup for calling the whole database + setups\n",
    "3. Generate SLURM setup for execution on cluster"
   ]
  },
  {
   "cell_type": "markdown",
   "metadata": {},
   "source": []
  }
 ],
 "metadata": {
  "language_info": {
   "name": "python"
  }
 },
 "nbformat": 4,
 "nbformat_minor": 2
}
